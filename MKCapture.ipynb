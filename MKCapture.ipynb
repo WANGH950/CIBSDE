{
 "cells": [
  {
   "cell_type": "code",
   "execution_count": 1,
   "id": "05a2eaa2",
   "metadata": {},
   "outputs": [],
   "source": [
    "import time\n",
    "import torch\n",
    "from cibsde import nn, utils\n",
    "import matplotlib.pyplot as plt\n",
    "device = torch.device('cuda:0')"
   ]
  },
  {
   "cell_type": "code",
   "execution_count": 2,
   "id": "ef800d40",
   "metadata": {},
   "outputs": [],
   "source": [
    "dx = 4\n",
    "t = torch.tensor(1.,device=device)\n",
    "Dx = torch.tensor(0.5,device=device)\n",
    "Dy = torch.tensor(1,device=device)\n",
    "r = torch.tensor([1,1.3,1.6,2],device=device)\n",
    "a = 0.1\n",
    "R = 2\n",
    "N = 100\n",
    "batch = 512\n",
    "epoch = 10**4\n",
    "lr = 5*1e-4\n",
    "\n",
    "x0 = torch.tensor([0,0,R],device=device)\n",
    "\n",
    "def data_gen(batch):\n",
    "    xx = torch.tensor([0,0,1,0,0,1,0,0,1,0,0,1.],device=device).expand([batch,12])\n",
    "    yy = torch.tensor([0,0,R],device=device).expand([batch,3])\n",
    "    return xx, yy\n",
    "\n",
    "def pc(i,x,y):\n",
    "    if i < N:\n",
    "        return torch.zeros([batch,1]).to(device)\n",
    "    else:\n",
    "        x = x.reshape([batch*dx,3])\n",
    "        x_polar = utils.polar_corr(x).reshape([batch*dx,2])\n",
    "        return (x_polar[:,0]<torch.pi/4).reshape([batch,dx]).prod(dim=1,keepdim=True).float()*(y[:,-1:] > r[-1]+a)\n",
    "\n",
    "def refb(x,y):\n",
    "    thetab = torch.arccos(r/R/2)\n",
    "    x = x.reshape([batch*dx,3])\n",
    "    x_polar = utils.polar_corr(x).reshape([batch,dx,2])\n",
    "    outx = (x_polar[:,:,0] >= thetab).reshape([batch*dx])\n",
    "    xb = x_polar.clone()\n",
    "    xb[:,:,0] = thetab\n",
    "    xb = utils.euclid_corr(xb.reshape([batch*dx,2]))\n",
    "    nb = torch.cat([xb[:,:1]*xb[:,2:],xb[:,1:2]*xb[:,2:],-xb[:,:2].norm(dim=1,keepdim=True)**2],dim=1)\n",
    "    nb = nb / nb.norm(dim=1,keepdim=True)\n",
    "    outy = (y - x0).norm(dim=1) >= R\n",
    "    nby = (y - x0) / (y - x0).norm(dim=1,keepdim=True)\n",
    "    yb = nby*R + x0\n",
    "    return xb, nb, outx, yb, nby, outy\n",
    "\n",
    "def hitb(x,y):\n",
    "    x = x.reshape([batch,dx,3])*r.unsqueeze(-1)\n",
    "    y = y.reshape([batch,1,3])\n",
    "    return ((x-y).norm(dim=-1) <= a).sum(dim=1) > 0\n",
    "\n",
    "def f(t,xt,yt,p,grad_p):\n",
    "    return torch.zeros([batch,1],device=device)\n",
    "\n",
    "def mu(t,xt):\n",
    "    return torch.zeros([batch,3],device=device)\n",
    "\n",
    "def sigma(t,xt):\n",
    "    return torch.eye(3,device=device).expand([batch,3,3]).clone()*torch.sqrt(2*Dy)\n",
    "\n",
    "model = nn.ConstaintIBSDE(\n",
    "    dx = dx,\n",
    "    dy = 3,\n",
    "    t = t,\n",
    "    f = f,\n",
    "    mu = mu,\n",
    "    sigma = sigma,\n",
    "    Dx = Dx/r**2,\n",
    "    pc = pc,\n",
    "    data_gen = data_gen,\n",
    "    N = N,\n",
    "    refb = refb,\n",
    "    hitb = hitb,\n",
    "    params = True\n",
    ").to(device)"
   ]
  },
  {
   "cell_type": "code",
   "execution_count": 3,
   "id": "1a13a610",
   "metadata": {},
   "outputs": [],
   "source": [
    "def train(model, params:dict):\n",
    "    epoch = params['epoch']\n",
    "    batch = params['batch']\n",
    "    lr = params['lr']\n",
    "\n",
    "    optim = torch.optim.Adam(model.parameters(),lr=lr)\n",
    "    loss_fun = torch.nn.MSELoss()\n",
    "    \n",
    "    loss_values = torch.zeros(epoch)\n",
    "    res_values = torch.zeros(epoch)\n",
    "    start = time.time()\n",
    "    for i in range(epoch):\n",
    "        model.train()\n",
    "        optim.zero_grad()\n",
    "        u_pre, u_rel = model(batch)\n",
    "        loss = loss_fun(u_pre,u_rel)\n",
    "        loss.backward()\n",
    "        optim.step()\n",
    "\n",
    "        model.eval()\n",
    "        loss_values[i] = loss.item()\n",
    "        with torch.no_grad():\n",
    "            res_values[i] = model.p.res.detach().cpu()\n",
    "            print('\\r%5d/{}|{}{}|{:.2f}s  [Loss: %e, Result: %.6f]'.format(\n",
    "                epoch,\n",
    "                \"#\"*int((i+1)/epoch*50),\n",
    "                \" \"*(50-int((i+1)/epoch*50)),\n",
    "                time.time() - start) %\n",
    "                (i+1,loss_values[i],res_values[i]), end = ' ', flush=True)\n",
    "    print(\"\\nTraining has been completed.\")\n",
    "    return loss_values, res_values"
   ]
  },
  {
   "cell_type": "code",
   "execution_count": 4,
   "id": "c917eac3",
   "metadata": {},
   "outputs": [
    {
     "name": "stdout",
     "output_type": "stream",
     "text": [
      "10000/10000|##################################################|8031.91s  [Loss: 1.945896e-02, Result: 0.035759]  \n",
      "Training has been completed.\n"
     ]
    }
   ],
   "source": [
    "train_params = {\n",
    "    'epoch': epoch,\n",
    "    'batch': batch,\n",
    "    'lr': lr\n",
    "}\n",
    "\n",
    "loss_value, res_values = train(\n",
    "    model,\n",
    "    train_params\n",
    ")"
   ]
  },
  {
   "cell_type": "code",
   "execution_count": 6,
   "id": "0ba24454",
   "metadata": {},
   "outputs": [
    {
     "name": "stderr",
     "output_type": "stream",
     "text": [
      "<>:3: SyntaxWarning: invalid escape sequence '\\h'\n",
      "<>:3: SyntaxWarning: invalid escape sequence '\\h'\n",
      "C:\\Users\\WH\\AppData\\Local\\Temp\\ipykernel_61760\\297320828.py:3: SyntaxWarning: invalid escape sequence '\\h'\n",
      "  plt.ylabel('$p(t=0,x=\\hat{x},y=\\hat{y})$')\n"
     ]
    },
    {
     "data": {
      "image/png": "[encoded data removed]",
      "text/plain": [
       "<Figure size 640x480 with 1 Axes>"
      ]
     },
     "metadata": {},
     "output_type": "display_data"
    }
   ],
   "source": [
    "res_rel = 0.035158\n",
    "plt.xlabel('Number of iteration steps')\n",
    "plt.ylabel('$p(t=0,x=\\hat{x},y=\\hat{y})$')\n",
    "plt.plot(range(10**4),torch.ones(10**4)*res_rel,c='r',label='exact solution')\n",
    "plt.plot(range(10**4),res_values,c='b',label='Constrain-Informed BSDE method')\n",
    "plt.legend()\n",
    "plt.show()"
   ]
  }
 ],
 "metadata": {
  "kernelspec": {
   "display_name": "torch",
   "language": "python",
   "name": "python3"
  },
  "language_info": {
   "codemirror_mode": {
    "name": "ipython",
    "version": 3
   },
   "file_extension": ".py",
   "mimetype": "text/x-python",
   "name": "python",
   "nbconvert_exporter": "python",
   "pygments_lexer": "ipython3",
   "version": "3.13.5"
  }
 },
 "nbformat": 4,
 "nbformat_minor": 5
}
